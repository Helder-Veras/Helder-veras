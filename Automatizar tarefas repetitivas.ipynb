{
 "cells": [
  {
   "cell_type": "markdown",
   "id": "99518855",
   "metadata": {},
   "source": [
    "## Escrever passo a passo do processo manual"
   ]
  },
  {
   "cell_type": "markdown",
   "id": "abc9a7ee",
   "metadata": {},
   "source": [
    "  1.  Entrar no sistema\n",
    "  2.  Navegar até o local do arquivo\n",
    "  3.  Baixar o relatório\n",
    "  4.  Calcular os indicadores\n",
    "  5.  Entrar no email\n",
    "  6.  Enviar os resultados\n"
   ]
  },
  {
   "cell_type": "markdown",
   "id": "3419994c",
   "metadata": {},
   "source": [
    "## Importar as biblioteca necessárias"
   ]
  },
  {
   "cell_type": "code",
   "execution_count": 51,
   "id": "404550b5",
   "metadata": {},
   "outputs": [],
   "source": [
    "import pyautogui as pya\n",
    "import pyperclip as pyc\n",
    "import time\n",
    "import pandas as pd"
   ]
  },
  {
   "cell_type": "code",
   "execution_count": 64,
   "id": "0d4fb58b",
   "metadata": {},
   "outputs": [],
   "source": [
    "pya.PAUSE = 0.6\n",
    "\n",
    "\n",
    "pya.press(\"win\")\n",
    "pya.write(\"edge\")\n",
    "pya.press(\"enter\")\n",
    "pyc.copy(\"https://drive.google.com/drive/u/0/folders/1KIEOJWhKvt9tgNWTc9X4IhrdijrYRgNb\")\n",
    "pya.hotkey(\"ctrl\",\"v\")\n",
    "pya.press(\"enter\")\n",
    "\n",
    "time.sleep(3)\n",
    "pya.click(x=1041, y=364,clicks=2)\n",
    "pya.click(x=380, y=362)\n",
    "pya.click(x=1168, y=159)\n",
    "pya.click(x=1022, y=592)\n",
    "pya.click(x=1022, y=592)\n",
    "time.sleep(3)\n",
    "pya.click(x=1152, y=153)\n",
    "pya.click(x=524, y=442)\n"
   ]
  },
  {
   "cell_type": "code",
   "execution_count": 67,
   "id": "f586953c",
   "metadata": {},
   "outputs": [
    {
     "data": {
      "text/html": [
       "<div>\n",
       "<style scoped>\n",
       "    .dataframe tbody tr th:only-of-type {\n",
       "        vertical-align: middle;\n",
       "    }\n",
       "\n",
       "    .dataframe tbody tr th {\n",
       "        vertical-align: top;\n",
       "    }\n",
       "\n",
       "    .dataframe thead th {\n",
       "        text-align: right;\n",
       "    }\n",
       "</style>\n",
       "<table border=\"1\" class=\"dataframe\">\n",
       "  <thead>\n",
       "    <tr style=\"text-align: right;\">\n",
       "      <th></th>\n",
       "      <th>school_name</th>\n",
       "      <th>country</th>\n",
       "    </tr>\n",
       "  </thead>\n",
       "  <tbody>\n",
       "    <tr>\n",
       "      <th>0</th>\n",
       "      <td>Harvard University</td>\n",
       "      <td>United States of America</td>\n",
       "    </tr>\n",
       "    <tr>\n",
       "      <th>1</th>\n",
       "      <td>California Institute of Technology</td>\n",
       "      <td>United States of America</td>\n",
       "    </tr>\n",
       "    <tr>\n",
       "      <th>2</th>\n",
       "      <td>Massachusetts Institute of Technology</td>\n",
       "      <td>United States of America</td>\n",
       "    </tr>\n",
       "    <tr>\n",
       "      <th>3</th>\n",
       "      <td>Stanford University</td>\n",
       "      <td>United States of America</td>\n",
       "    </tr>\n",
       "    <tr>\n",
       "      <th>4</th>\n",
       "      <td>Princeton University</td>\n",
       "      <td>United States of America</td>\n",
       "    </tr>\n",
       "    <tr>\n",
       "      <th>...</th>\n",
       "      <td>...</td>\n",
       "      <td>...</td>\n",
       "    </tr>\n",
       "    <tr>\n",
       "      <th>813</th>\n",
       "      <td>Xidian University</td>\n",
       "      <td>China</td>\n",
       "    </tr>\n",
       "    <tr>\n",
       "      <th>814</th>\n",
       "      <td>Yeungnam University</td>\n",
       "      <td>South Korea</td>\n",
       "    </tr>\n",
       "    <tr>\n",
       "      <th>815</th>\n",
       "      <td>Yıldız Technical University</td>\n",
       "      <td>Turkey</td>\n",
       "    </tr>\n",
       "    <tr>\n",
       "      <th>816</th>\n",
       "      <td>Yokohama City University</td>\n",
       "      <td>Japan</td>\n",
       "    </tr>\n",
       "    <tr>\n",
       "      <th>817</th>\n",
       "      <td>Yokohama National University</td>\n",
       "      <td>Japan</td>\n",
       "    </tr>\n",
       "  </tbody>\n",
       "</table>\n",
       "<p>818 rows × 2 columns</p>\n",
       "</div>"
      ],
      "text/plain": [
       "                               school_name                   country\n",
       "0                       Harvard University  United States of America\n",
       "1       California Institute of Technology  United States of America\n",
       "2    Massachusetts Institute of Technology  United States of America\n",
       "3                      Stanford University  United States of America\n",
       "4                     Princeton University  United States of America\n",
       "..                                     ...                       ...\n",
       "813                      Xidian University                     China\n",
       "814                    Yeungnam University               South Korea\n",
       "815            Yıldız Technical University                    Turkey\n",
       "816               Yokohama City University                     Japan\n",
       "817           Yokohama National University                     Japan\n",
       "\n",
       "[818 rows x 2 columns]"
      ]
     },
     "metadata": {},
     "output_type": "display_data"
    }
   ],
   "source": [
    "tabela = pd.read_csv(r'C://Users/helde/Downloads/school_and_country_table (2).csv')\n",
    "display(tabela)"
   ]
  },
  {
   "cell_type": "code",
   "execution_count": 63,
   "id": "5419266f",
   "metadata": {},
   "outputs": [
    {
     "data": {
      "text/plain": [
       "Point(x=1152, y=153)"
      ]
     },
     "execution_count": 63,
     "metadata": {},
     "output_type": "execute_result"
    }
   ],
   "source": [
    "pya.position()\n",
    "    "
   ]
  },
  {
   "cell_type": "code",
   "execution_count": null,
   "id": "1e1a1dc1",
   "metadata": {},
   "outputs": [],
   "source": []
  }
 ],
 "metadata": {
  "kernelspec": {
   "display_name": "Python 3",
   "language": "python",
   "name": "python3"
  },
  "language_info": {
   "codemirror_mode": {
    "name": "ipython",
    "version": 3
   },
   "file_extension": ".py",
   "mimetype": "text/x-python",
   "name": "python",
   "nbconvert_exporter": "python",
   "pygments_lexer": "ipython3",
   "version": "3.8.8"
  }
 },
 "nbformat": 4,
 "nbformat_minor": 5
}
