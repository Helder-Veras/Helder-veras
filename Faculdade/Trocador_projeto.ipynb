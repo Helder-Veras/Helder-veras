{
 "cells": [
  {
   "cell_type": "markdown",
   "metadata": {},
   "source": [
    "## Projeto do trocador"
   ]
  },
  {
   "cell_type": "markdown",
   "metadata": {},
   "source": [
    "![](ilustração.png)"
   ]
  },
  {
   "cell_type": "markdown",
   "metadata": {},
   "source": [
    "### Chamando as bibliotecas"
   ]
  },
  {
   "cell_type": "code",
   "execution_count": 3,
   "metadata": {},
   "outputs": [],
   "source": [
    "import numpy \n",
    "from scipy.optimize import root\n",
    "from math import log,pi"
   ]
  },
  {
   "cell_type": "markdown",
   "metadata": {},
   "source": [
    "### Fator de atrito de swamee"
   ]
  },
  {
   "cell_type": "code",
   "execution_count": 4,
   "metadata": {},
   "outputs": [],
   "source": [
    "def f(Re):\n",
    "    a = (64/Re)**8\n",
    "    b = (E/(3.7*D)) + (5.74/(Re**0.9))\n",
    "    c = ((2500/Re)**6)\n",
    "\n",
    "    f = (a + 9.5*((log(b) - c))**(-16))**0.125\n",
    "\n",
    "    return f"
   ]
  },
  {
   "cell_type": "markdown",
   "metadata": {},
   "source": [
    "### Reynolds"
   ]
  },
  {
   "cell_type": "code",
   "execution_count": 5,
   "metadata": {},
   "outputs": [],
   "source": [
    "def reynolds(D,p,u,v2):\n",
    "    Re = ((D*p*v2)/u)\n",
    "    return(Re)"
   ]
  },
  {
   "cell_type": "markdown",
   "metadata": {},
   "source": [
    "### Perda de carga localizada"
   ]
  },
  {
   "cell_type": "code",
   "execution_count": 6,
   "metadata": {},
   "outputs": [],
   "source": [
    "def hl(f_swamee,D,L,v2):\n",
    "    hl = f_swamee*(L/D)*((v2**2)/(2*g))\n",
    "    return(hl)"
   ]
  },
  {
   "cell_type": "markdown",
   "metadata": {},
   "source": [
    "### Perda de carga distribuida"
   ]
  },
  {
   "cell_type": "code",
   "execution_count": 7,
   "metadata": {},
   "outputs": [],
   "source": [
    "def hlm(K,v2):\n",
    "    hlm = K*(v2**2)/(2*g)\n",
    "    return(hlm)"
   ]
  },
  {
   "cell_type": "markdown",
   "metadata": {},
   "source": [
    "### Bernoulli"
   ]
  },
  {
   "cell_type": "code",
   "execution_count": 8,
   "metadata": {},
   "outputs": [],
   "source": [
    "def bernoulli(v2):\n",
    "    Re = reynolds(D,p,u,v2)\n",
    "    f_swamee = f(Re)\n",
    "    h_dist = hl(f_swamee,D,L,v2)\n",
    "    h_loc = hlm(K,v2)\n",
    "    return((P1) + (v1**2/(2*g)) + (z1) - (P2) - (v2**2/(2*g)) - (g*z2) - (h_dist) - (h_loc))  "
   ]
  },
  {
   "cell_type": "markdown",
   "metadata": {},
   "source": [
    "### Dados do fluido do tubo"
   ]
  },
  {
   "cell_type": "code",
   "execution_count": 9,
   "metadata": {},
   "outputs": [],
   "source": [
    "Re = .0                 # Reynolds\n",
    "g = 9.81                # Gravidade [m/s²]\n",
    "D = 0.006               # Diametro do Encanamento [m]\n",
    "u = 0.0010903           # Viscosidade Dinâmica da Água a 20°C [Pa.s]\n",
    "L = 1.2                 # Comprimento do \n",
    "p = 998.2               # Massa Especifica da Água a 20°C [kg/m³]\n",
    "E = 0.0230e-3           # Rugosidade Equivalente do Material [mm]\n",
    "P1,P2 = 1. , 1.         # Pressão na entrada e na saida\n",
    "z1,z2 = 1.05 , 0.       # Desnível   \n",
    "v1 = 0.                 # Velocidade inicial\n",
    "K = 1                   # Constante da"
   ]
  },
  {
   "cell_type": "markdown",
   "metadata": {},
   "source": [
    "### Vazão do flúido frio"
   ]
  },
  {
   "cell_type": "code",
   "execution_count": 10,
   "metadata": {},
   "outputs": [
    {
     "name": "stdout",
     "output_type": "stream",
     "text": [
      "v2 = 1.460206400093888 m/s\n",
      "W = 4.1286363293337807e-05 m3/s\n",
      "Reynolds = 8021.157636836021\n"
     ]
    }
   ],
   "source": [
    "velocidade_saida = root(bernoulli,1)\n",
    "print(f'v2 = {float(velocidade_saida.x)} m/s')\n",
    "W2_cool = velocidade_saida.x*((pi*D**2)/4)\n",
    "print(f'W = {float(W2_cool)} m3/s')\n",
    "Re = reynolds(D,p,u,velocidade_saida.x)\n",
    "print(f'Reynolds = {float(Re)}')\n",
    "\n",
    "cp1 = \n",
    "cp2 = \n",
    "T1_in = \n",
    "T1_out = \n",
    "T2_in = \n",
    "T2_out = \n",
    "\n",
    "W1_cool = (cp2*W2_cool*(T2_out-T2_in))/(cp1*(T1_out-T1_in))"
   ]
  },
  {
   "cell_type": "markdown",
   "metadata": {},
   "source": [
    "### Dados do flúido no ânodo"
   ]
  },
  {
   "cell_type": "code",
   "execution_count": 13,
   "metadata": {},
   "outputs": [],
   "source": [
    "Re = .0                 # Reynolds\n",
    "g = 9.81                # Gravidade [m/s²]\n",
    "D_hot = 0.01            # Diametro do Encanamento [m]\n",
    "u_hot = 0.2783e-3       # Viscosidade Dinâmica da Água a 100°C [Pa.s]\n",
    "L = 1.2                 # Comprimento da mangueira\n",
    "p_hot = 958.36          # Massa Especifica da Água a 100°C [kg/m³]\n",
    "E = 0.0230e-3           # Rugosidade Equivalente do Material [mm]\n",
    "P1,P2 = 1. , 1.         # Pressão na entrada e na saida\n",
    "z1,z2 = 1.05 , 0.       # Desnível   \n",
    "v1 = 0.                 # Velocidade inicial\n",
    "K = 1                   # Constante da Hlm"
   ]
  },
  {
   "cell_type": "markdown",
   "metadata": {},
   "source": [
    "### Vazão do flúido quente"
   ]
  },
  {
   "cell_type": "code",
   "execution_count": 14,
   "metadata": {},
   "outputs": [
    {
     "name": "stdout",
     "output_type": "stream",
     "text": [
      "v2_hot = 1.9179751956561275 m/s\n",
      "W_hot = 5.4229471059966626e-05 m3/s\n",
      "Reynolds = 39628.68936778311\n"
     ]
    }
   ],
   "source": [
    "def bernoulli_hot(v2_hot):\n",
    "    Re = reynolds(D_hot,p_hot,u_hot,v2_hot)\n",
    "    f_swamee = f(Re)\n",
    "    h_dist = hl(f_swamee,D_hot,L,v2_hot)\n",
    "    h_loc = hlm(K,v2_hot)\n",
    "    return((P1) + (v1**2/(2*g)) + (z1) - (P2) - (v2_hot**2/(2*g)) - (g*z2) - (h_dist) - (h_loc))  \n",
    "\n",
    "velocidade_saida = root(bernoulli_hot,1)\n",
    "print(f'v2_hot = {float(velocidade_saida.x)} m/s')\n",
    "W = velocidade_saida.x*((pi*D**2)/4)\n",
    "print(f'W_hot = {float(W)} m3/s')\n",
    "Re = reynolds(D,p_hot,u_hot,velocidade_saida.x)\n",
    "print(f'Reynolds = {float(Re)}')"
   ]
  },
  {
   "cell_type": "code",
   "execution_count": null,
   "metadata": {},
   "outputs": [],
   "source": []
  }
 ],
 "metadata": {
  "kernelspec": {
   "display_name": "Python 3.9.13 64-bit (windows store)",
   "language": "python",
   "name": "python3"
  },
  "language_info": {
   "codemirror_mode": {
    "name": "ipython",
    "version": 3
   },
   "file_extension": ".py",
   "mimetype": "text/x-python",
   "name": "python",
   "nbconvert_exporter": "python",
   "pygments_lexer": "ipython3",
   "version": "3.9.13"
  },
  "orig_nbformat": 4,
  "vscode": {
   "interpreter": {
    "hash": "b64ee7238d142a48f63a4663d36d815e22a7cb6c7ee390ad3e7cda50259dbdce"
   }
  }
 },
 "nbformat": 4,
 "nbformat_minor": 2
}
