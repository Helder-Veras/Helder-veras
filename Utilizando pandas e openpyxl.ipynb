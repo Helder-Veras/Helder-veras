{
 "cells": [
  {
   "cell_type": "markdown",
   "id": "49d301da",
   "metadata": {},
   "source": [
    "### Caminho do arquivo"
   ]
  },
  {
   "cell_type": "code",
   "execution_count": 1,
   "id": "23aee455",
   "metadata": {},
   "outputs": [
    {
     "name": "stdout",
     "output_type": "stream",
     "text": [
      "Produtos.xlsx\n"
     ]
    }
   ],
   "source": [
    "import os    # biblioteca especializada no trabalho de arquivos do coomputador\n",
    "\n",
    "caminho = r\"C:\\Users\\helde\\Downloads\"\n",
    "lista_arquivos = os.listdir(caminho)   # mostra todos os arquivos de uma pasta\n",
    "\n",
    "lista_datas = []\n",
    "for arquivo in lista_arquivos:\n",
    "    if \".xlsx\" in arquivo:       # discriminar o arquivo, tanto por nome como por tipo\n",
    "        data = os.path.getmtime(f'{caminho}/{arquivo}')  # descobrir a data de cada arquivo\n",
    "        lista_datas.append((data,arquivo))        #colocar todos um uma lista de tuplas\n",
    "    \n",
    "lista_datas.sort(reverse = True)    #percorrer em ordem decrescente\n",
    "ultimo_arquivo = lista_datas[0]\n",
    "nome_ultimo_arquivo = ultimo_arquivo[1]\n",
    "print(nome_ultimo_arquivo)"
   ]
  },
  {
   "cell_type": "markdown",
   "id": "05d6b013",
   "metadata": {},
   "source": [
    "### Com o pandas "
   ]
  },
  {
   "cell_type": "code",
   "execution_count": 2,
   "id": "4e7a3929",
   "metadata": {},
   "outputs": [
    {
     "data": {
      "text/html": [
       "<div>\n",
       "<style scoped>\n",
       "    .dataframe tbody tr th:only-of-type {\n",
       "        vertical-align: middle;\n",
       "    }\n",
       "\n",
       "    .dataframe tbody tr th {\n",
       "        vertical-align: top;\n",
       "    }\n",
       "\n",
       "    .dataframe thead th {\n",
       "        text-align: right;\n",
       "    }\n",
       "</style>\n",
       "<table border=\"1\" class=\"dataframe\">\n",
       "  <thead>\n",
       "    <tr style=\"text-align: right;\">\n",
       "      <th></th>\n",
       "      <th>Produtos</th>\n",
       "      <th>Preço Base Original</th>\n",
       "      <th>Tipo</th>\n",
       "      <th>Multiplicador Imposto</th>\n",
       "      <th>Preço Base Reais</th>\n",
       "    </tr>\n",
       "  </thead>\n",
       "  <tbody>\n",
       "    <tr>\n",
       "      <th>0</th>\n",
       "      <td>Tablet</td>\n",
       "      <td>999.99</td>\n",
       "      <td>Produto</td>\n",
       "      <td>1.1</td>\n",
       "      <td>1099.989</td>\n",
       "    </tr>\n",
       "    <tr>\n",
       "      <th>1</th>\n",
       "      <td>Pós Graduação</td>\n",
       "      <td>4500.00</td>\n",
       "      <td>Serviço</td>\n",
       "      <td>1.3</td>\n",
       "      <td>5850.000</td>\n",
       "    </tr>\n",
       "    <tr>\n",
       "      <th>2</th>\n",
       "      <td>Celular</td>\n",
       "      <td>899.99</td>\n",
       "      <td>Produto</td>\n",
       "      <td>1.1</td>\n",
       "      <td>989.989</td>\n",
       "    </tr>\n",
       "    <tr>\n",
       "      <th>3</th>\n",
       "      <td>Passagem Aérea</td>\n",
       "      <td>799.00</td>\n",
       "      <td>Serviço</td>\n",
       "      <td>1.3</td>\n",
       "      <td>1038.700</td>\n",
       "    </tr>\n",
       "    <tr>\n",
       "      <th>4</th>\n",
       "      <td>Computador</td>\n",
       "      <td>3000.00</td>\n",
       "      <td>Produto</td>\n",
       "      <td>1.1</td>\n",
       "      <td>3300.000</td>\n",
       "    </tr>\n",
       "    <tr>\n",
       "      <th>5</th>\n",
       "      <td>SPA</td>\n",
       "      <td>480.48</td>\n",
       "      <td>Serviço</td>\n",
       "      <td>1.3</td>\n",
       "      <td>624.624</td>\n",
       "    </tr>\n",
       "    <tr>\n",
       "      <th>6</th>\n",
       "      <td>Corte Cabelo</td>\n",
       "      <td>50.00</td>\n",
       "      <td>Serviço</td>\n",
       "      <td>1.3</td>\n",
       "      <td>65.000</td>\n",
       "    </tr>\n",
       "  </tbody>\n",
       "</table>\n",
       "</div>"
      ],
      "text/plain": [
       "         Produtos  Preço Base Original     Tipo  Multiplicador Imposto  \\\n",
       "0          Tablet               999.99  Produto                    1.1   \n",
       "1   Pós Graduação              4500.00  Serviço                    1.3   \n",
       "2         Celular               899.99  Produto                    1.1   \n",
       "3  Passagem Aérea               799.00  Serviço                    1.3   \n",
       "4      Computador              3000.00  Produto                    1.1   \n",
       "5             SPA               480.48  Serviço                    1.3   \n",
       "6    Corte Cabelo                50.00  Serviço                    1.3   \n",
       "\n",
       "   Preço Base Reais  \n",
       "0          1099.989  \n",
       "1          5850.000  \n",
       "2           989.989  \n",
       "3          1038.700  \n",
       "4          3300.000  \n",
       "5           624.624  \n",
       "6            65.000  "
      ]
     },
     "metadata": {},
     "output_type": "display_data"
    }
   ],
   "source": [
    "import pandas as pd\n",
    "\n",
    "tabela = pd.read_excel(f'{caminho}/{nome_ultimo_arquivo}')\n",
    "display(tabela)\n"
   ]
  },
  {
   "cell_type": "code",
   "execution_count": 6,
   "id": "090f730a",
   "metadata": {},
   "outputs": [],
   "source": [
    "# atualizar o multiplicador\n",
    "tabela.loc[tabela[\"Tipo\"]==\"Serviço\",\"Multiplicador Imposto\"] = 1.5\n",
    "#fazer a conta do preço bases reais\n",
    "tabela[\"Preço Bases Reais\"] = tabela[\"Multiplicador Imposto\"] * tabela [\"Preço Base Original\"]\n",
    "# Salvar arquivo\n",
    "tabela.to_excel(\"ProdutosPandas.xlsx\",index = False)"
   ]
  },
  {
   "cell_type": "markdown",
   "id": "55db3f88",
   "metadata": {},
   "source": [
    "### Com openpyxl"
   ]
  },
  {
   "cell_type": "code",
   "execution_count": 13,
   "id": "84065c62",
   "metadata": {},
   "outputs": [],
   "source": [
    "from openpyxl import Workbook , load_workbook\n",
    "\n",
    "planilha = load_workbook(f'{caminho}/{nome_ultimo_arquivo}')\n",
    "\n",
    "aba_ativa = planilha.active\n",
    "\n",
    "for celula in aba_ativa[\"C\"]:\n",
    "    if celula.value == \"Serviço\":\n",
    "        linha = celula.row\n",
    "        aba_ativa[f\"D{linha}\"] = 1.5\n",
    "        \n",
    "planilha.save(\"ProdutosOpenpy.xlsx\")"
   ]
  },
  {
   "cell_type": "code",
   "execution_count": null,
   "id": "68bd0c09",
   "metadata": {},
   "outputs": [],
   "source": [
    "planilha.to"
   ]
  }
 ],
 "metadata": {
  "kernelspec": {
   "display_name": "Python 3",
   "language": "python",
   "name": "python3"
  },
  "language_info": {
   "codemirror_mode": {
    "name": "ipython",
    "version": 3
   },
   "file_extension": ".py",
   "mimetype": "text/x-python",
   "name": "python",
   "nbconvert_exporter": "python",
   "pygments_lexer": "ipython3",
   "version": "3.8.8"
  }
 },
 "nbformat": 4,
 "nbformat_minor": 5
}
